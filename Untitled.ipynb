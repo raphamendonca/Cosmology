{
 "cells": [
  {
   "cell_type": "code",
   "execution_count": 24,
   "metadata": {
    "collapsed": true
   },
   "outputs": [],
   "source": [
    "import numpy as np\n",
    "import matplotlib.pyplot as plt\n",
    "import math\n"
   ]
  },
  {
   "cell_type": "code",
   "execution_count": 72,
   "metadata": {
    "collapsed": false
   },
   "outputs": [],
   "source": [
    "#Constantes\n",
    "T0 = 2.725\n",
    "n = 5.5*10**(-10)\n",
    "me = 9.1*10**(-31)\n",
    "c = 299792458\n",
    "Q = 13.6\n",
    "Kj = 1.3806503*10**(-23)\n",
    "Kev = 8.617*10**(-5)"
   ]
  },
  {
   "cell_type": "code",
   "execution_count": 78,
   "metadata": {
    "collapsed": false
   },
   "outputs": [],
   "source": [
    "def funcT(z):\n",
    "    return T0*(1+z)\n",
    "\n",
    "def funcS(z, T):\n",
    "    #s = 3.84*n * ( Kj*T/ (me*c**2) ) **(3/2) * np.exp( Q/(Kev*T) )\n",
    "    s = 3.84*n * ( Kj*T/ (me*c**2) ) **(3/2) * np.exp( Q/(Kev*T) )\n",
    "    return s\n",
    "                                                                                \n",
    "def funcX(z):\n",
    "    T = funcT(z)\n",
    "    S = funcS(z, T)\n",
    "    x = (-1) + np.sqrt(1+4*S) / 2*S\n",
    "    \n",
    "    print(z, \" | \", T, \" | \", S ,\" | \",x)\n",
    "    return x "
   ]
  },
  {
   "cell_type": "code",
   "execution_count": 79,
   "metadata": {
    "collapsed": false
   },
   "outputs": [
    {
     "name": "stdout",
     "output_type": "stream",
     "text": [
      "1200  |  3272.725  |  762.188302029  |  21044.760883\n",
      "1210  |  3299.975  |  518.223148702  |  11798.943926\n",
      "1220  |  3327.225  |  354.617197769  |  6679.25009953\n",
      "1230  |  3354.475  |  244.18721399  |  3816.74205881\n",
      "1240  |  3381.725  |  169.176517759  |  2201.06824316\n",
      "1250  |  3408.975  |  117.909091043  |  1280.68370293\n",
      "1260  |  3436.225  |  82.6575632661  |  751.626790994\n",
      "1270  |  3463.475  |  58.2754995382  |  444.81899613\n",
      "1280  |  3490.725  |  41.3142043738  |  265.353942429\n",
      "1290  |  3517.975  |  29.4487219357  |  159.485326963\n",
      "1300  |  3545.225  |  21.1024364827  |  96.5116086504\n",
      "1310  |  3572.475  |  15.2000472578  |  58.7461389094\n",
      "1320  |  3599.725  |  11.0040400024  |  35.9152987749\n",
      "1330  |  3626.975  |  8.00579590928  |  22.0029740041\n",
      "1340  |  3654.225  |  5.85266591778  |  13.4581768369\n",
      "1350  |  3681.475  |  4.29885688913  |  8.16862318634\n",
      "1360  |  3708.725  |  3.17217268737  |  4.86823884543\n",
      "1370  |  3735.975  |  2.35137076403  |  2.79247076455\n",
      "1380  |  3763.225  |  1.75066490049  |  1.47622555374\n",
      "1390  |  3790.475  |  1.30906420579  |  0.634530197065\n",
      "1400  |  3817.725  |  0.983002156548  |  0.0915317899651\n",
      "1410  |  3844.975  |  0.741215219138  |  -0.262047669246\n",
      "1420  |  3872.225  |  0.561167310282  |  -0.494585631559\n",
      "1430  |  3899.475  |  0.426541697403  |  -0.649160262641\n",
      "1440  |  3926.725  |  0.325473519909  |  -0.753095882206\n",
      "1450  |  3953.975  |  0.24929858362  |  -0.82384297056\n",
      "1460  |  3981.225  |  0.191663692213  |  -0.872624559327\n",
      "1470  |  4008.475  |  0.147891295779  |  -0.906712203825\n",
      "1480  |  4035.725  |  0.114523823163  |  -0.930855316033\n",
      "1490  |  4062.975  |  0.0889955156963  |  -0.948183854848\n",
      "1500  |  4090.225  |  0.0693951174897  |  -0.960781312821\n",
      "1510  |  4117.475  |  0.0542935783583  |  -0.970050135659\n",
      "1520  |  4144.725  |  0.0426184660532  |  -0.976945873121\n",
      "1530  |  4171.975  |  0.0335620715175  |  -0.98212801346\n",
      "1540  |  4199.225  |  0.026513913242  |  -0.986057767361\n",
      "1550  |  4226.475  |  0.0210109783123  |  -0.989061954731\n",
      "1560  |  4253.725  |  0.016700905566  |  -0.991375135805\n",
      "1570  |  4280.975  |  0.0133146472639  |  -0.993167696116\n",
      "1580  |  4308.225  |  0.0106460978041  |  -0.994564793294\n",
      "1590  |  4335.475  |  0.0085368616923  |  -0.995659302895\n"
     ]
    },
    {
     "data": {
      "image/png": "[encoded data removed]",
      "text/plain": [
       "<matplotlib.figure.Figure at 0x7f521a1de978>"
      ]
     },
     "metadata": {},
     "output_type": "display_data"
    }
   ],
   "source": [
    "for z in np.arange(1200,1600,10):\n",
    "    #print(z, \" | \", funcX(z))\n",
    "    plt.plot(z, funcX(z), \"b.\")\n",
    "    \n",
    "plt.xlabel(\"Z\")\n",
    "plt.ylabel(\"X\")\n",
    "#plt.axis((1200,1600,0,1))s = 3.84*n * ( Kj*T/ (me*c**2) ) **(3/2) * np.exp( Q/(Kev*T) )\n",
    "plt.show()"
   ]
  }
 ],
 "metadata": {
  "kernelspec": {
   "display_name": "Python 3",
   "language": "python",
   "name": "python3"
  },
  "language_info": {
   "codemirror_mode": {
    "name": "ipython",
    "version": 3
   },
   "file_extension": ".py",
   "mimetype": "text/x-python",
   "name": "python",
   "nbconvert_exporter": "python",
   "pygments_lexer": "ipython3",
   "version": "3.6.0"
  }
 },
 "nbformat": 4,
 "nbformat_minor": 2
}
