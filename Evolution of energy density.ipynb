{
 "cells": [
  {
   "cell_type": "code",
   "execution_count": null,
   "metadata": {
    "collapsed": false,
    "scrolled": true
   },
   "outputs": [],
   "source": [
    "import numpy as np\n",
    "import matplotlib.pyplot as plt\n",
    "%matplotlib inline\n",
    "\n",
    "a = np.float(1.0)\n",
    "\n",
    "\"\"\"(1) construir uma função f(w,a) retornando a^( -3(1+w) )\n",
    "\n",
    "(2) fixado um valor de w, você varia a de 0 até um valor grande, obtendo o gráfico de a^( -3(1+w) ). \n",
    "Minha sugestão é fazer a=numpy.arange(0, VALOR GRANDE)\n",
    "\n",
    "(3) para comparar os resultados, você deve observar o seguinte:\n",
    "     (a) quando a se aproxima de zero (a->0), o maior valor apresentado no gráfico deve ser o do \n",
    "     gráfico com maior w\n",
    "     (b) quando a se aproxima do valor grande (a-> VALOR GRANDE), o maior valor apresentado no \n",
    "     gráfico deve ser o de gráfico com menor w\n",
    "     \n",
    "\"\"\"\n",
    "\n",
    "def densidadeEnergia(w):\n",
    "    # Ew = Ew,0 * a^-3(1+w)\n",
    "    for a in np.arange(0, 1000):\n",
    "        e = 1/a**(3*(1+w))\n",
    "        plt.loglog(e,a, \"k.\")\n",
    "    pass\n",
    "\n",
    "#y = np.arange(1.,3.,0.1)   \n",
    "#plt.plot(wList, densidadeEnergia(wList))\n",
    "\n",
    "densidadeEnergia(-1)\n",
    "densidadeEnergia(0)\n",
    "densidadeEnergia(1/3)\n",
    "densidadeEnergia(2/3)\n",
    "densidadeEnergia(1)\n",
    "densidadeEnergia(2)\n",
    "densidadeEnergia(10)\n",
    "\n",
    "\n",
    "plt.xlabel(\"\")\n",
    "plt.ylabel(\"\")\n",
    "plt.title(\"Ew = Ew,0 * a^-3(1+w)\")\n",
    "\n",
    "plt.show()"
   ]
  }
 ],
 "metadata": {
  "kernelspec": {
   "display_name": "Python 3",
   "language": "python",
   "name": "python3"
  },
  "language_info": {
   "codemirror_mode": {
    "name": "ipython",
    "version": 3
   },
   "file_extension": ".py",
   "mimetype": "text/x-python",
   "name": "python",
   "nbconvert_exporter": "python",
   "pygments_lexer": "ipython3",
   "version": "3.6.0"
  }
 },
 "nbformat": 4,
 "nbformat_minor": 2
}
