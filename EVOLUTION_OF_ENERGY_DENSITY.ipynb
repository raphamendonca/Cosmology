import numpy as np
import matplotlib.pyplot as plt
%matplotlib inline
import math

#Constante Gravitacional

# To generalize, if the universe contains different components with different values of w, 
# equation (5.9) tells us that in the limit a ' 0, the component with the largest value of w is dominant. 
# If the universe expands forever, then as a ' %, the component with the smallest value of w is dominant.


em = 2.53e-27           # matterDensity in kg / m^3
er = 5.6e-31            #  radiationDensity...
et = em+er

a = 1.0
#w = 0.1

def densidadeEnergia(w): 
    # Ew = Ew,0 * a^-3(1+w)
    
    ew = w* (a**(-3 - 3*w))
    
    
    return 
    pass

wList = np.arange(1e-5, 1e4, 0.1)

#y = np.arange(1.,3.,0.1)
    
plt.plot(wList, densidadeEnergia(wList))

plt.xlabel("w")
plt.ylabel("ew")
plt.title("Ew = Ew,0 * a^-3(1+w)")
plt.show()
