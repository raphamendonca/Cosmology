{
 "cells": [
  {
   "cell_type": "code",
   "execution_count": 24,
   "metadata": {
    "collapsed": true
   },
   "outputs": [],
   "source": [
    "import numpy as np\n",
    "import matplotlib.pyplot as plt\n",
    "import math\n"
   ]
  },
  {
   "cell_type": "code",
   "execution_count": 85,
   "metadata": {
    "collapsed": false
   },
   "outputs": [],
   "source": [
    "#Constantess = 3.84*n * ( Kj*T/ (me*c**2) ) **(3/2) * np.exp( Q/(Kev*T) )\n",
    "T0 = 2.725\n",
    "n = 5.5*10**(-10)\n",
    "me = 9.1*10**(-31)\n",
    "c = 299792458\n",
    "Q = 13.6\n",
    "Kj = 1.3806503*10**(-23)\n",
    "Kev = 8.617*10**(-5)\n",
    "Const = 4.62267752749789*10**(-24)"
   ]
  },
  {
   "cell_type": "code",
   "execution_count": 93,
   "metadata": {
    "collapsed": false
   },
   "outputs": [],
   "source": [
    "def funcT(z):\n",
    "    return T0*(1+z)\n",
    "\n",
    "def funcS(z, T):\n",
    "    #s = 3.84*n * ( Kj*T/ (me*c**2) ) **(3/2) * np.exp( Q/(Kev*T) )\n",
    "    s = Const*T**(3/2) * np.exp( Q/(Kev*T) )\n",
    "    return s\n",
    "                                                                                \n",
    "def funcX(z):\n",
    "    T = funcT(z)\n",
    "    S = funcS(z, T)\n",
    "    #x = (-1) + np.sqrt(1+4*S) / 2*S\n",
    "    x =((1+4*S)**(1/2)-1)/(2*S)\n",
    "    print(z, \" | \", T, \" | \", S ,\" | \",x)\n",
    "    return x "
   ]
  },
  {
   "cell_type": "code",
   "execution_count": 94,
   "metadata": {
    "collapsed": false
   },
   "outputs": [
    {
     "name": "stdout",
     "output_type": "stream",
     "text": [
      "1200  |  3272.725  |  760.607535273  |  0.0356079119654\n",
      "1210  |  3299.975  |  517.148361902  |  0.0430174277289\n",
      "1220  |  3327.225  |  353.881727183  |  0.0517641533878\n",
      "1230  |  3354.475  |  243.680773483  |  0.0620413465196\n",
      "1240  |  3381.725  |  168.825648276  |  0.0740581146954\n",
      "1250  |  3408.975  |  117.664549411  |  0.0880371075958\n",
      "1260  |  3436.225  |  82.4861327576  |  0.104210734186\n",
      "1270  |  3463.475  |  58.154637053  |  0.122815531466\n",
      "1280  |  3490.725  |  41.2285193526  |  0.144084289692\n",
      "1290  |  3517.975  |  29.3876457417  |  0.168235552453\n",
      "1300  |  3545.225  |  21.0586703557  |  0.195460181781\n",
      "1310  |  3572.475  |  15.1685225947  |  0.225904839483\n",
      "1320  |  3599.725  |  10.9812177935  |  0.259652523448\n",
      "1330  |  3626.975  |  7.98919201232  |  0.296700751948\n",
      "1340  |  3654.225  |  5.84052757913  |  0.33693864121\n",
      "1350  |  3681.475  |  4.28994112639  |  0.380124974166\n",
      "1360  |  3708.725  |  3.16559365026  |  0.425870350186\n",
      "1370  |  3735.975  |  2.34649405741  |  0.473627466802\n",
      "1380  |  3763.225  |  1.74703404855  |  0.522694192412\n",
      "1390  |  3790.475  |  1.30634922686  |  0.572233863156\n",
      "1400  |  3817.725  |  0.980963425271  |  0.621315632751\n",
      "1410  |  3844.975  |  0.739677950231  |  0.668974366061\n",
      "1420  |  3872.225  |  0.560003457955  |  0.714284734142\n",
      "1430  |  3899.475  |  0.425657056517  |  0.756439029794\n",
      "1440  |  3926.725  |  0.32479849286  |  0.794814842321\n",
      "1450  |  3953.975  |  0.248781542211  |  0.829019203147\n",
      "1460  |  3981.225  |  0.191266184678  |  0.858900883666\n",
      "1470  |  4008.475  |  0.147584571517  |  0.884530647836\n",
      "1480  |  4035.725  |  0.114286302525  |  0.906157143432\n",
      "1490  |  4062.975  |  0.0888109403725  |  0.924150627223\n",
      "1500  |  4090.225  |  0.0692511930888  |  0.938946700395\n",
      "1510  |  4117.475  |  0.0541809743161  |  0.950998796655\n",
      "1520  |  4144.725  |  0.0425300760134  |  0.960743542434\n",
      "1530  |  4171.975  |  0.0334924643  |  0.968579190375\n",
      "1540  |  4199.225  |  0.0264589237958  |  0.974854967926\n",
      "1550  |  4226.475  |  0.0209674018681  |  0.97986831848\n",
      "1560  |  4253.725  |  0.016666268146  |  0.983867143175\n",
      "1570  |  4280.975  |  0.0132870328913  |  0.98705474844\n",
      "1580  |  4308.225  |  0.0106240179618  |  0.989595898755\n",
      "1590  |  4335.475  |  0.00851915637311  |  0.991622976151\n"
     ]
    },
    {
     "data": {
      "image/png": "[encoded data removed]",
      "text/plain": [
       "<matplotlib.figure.Figure at 0x7f521a5f0dd8>"
      ]
     },
     "metadata": {},
     "output_type": "display_data"
    }
   ],
   "source": [
    "for z in np.arange(1200,1600,10):\n",
    "    #print(z, \" | \", funcX(z))\n",
    "    plt.plot(z, funcX(z), \"b.\")\n",
    "    \n",
    "plt.xlabel(\"Z\")\n",
    "plt.ylabel(\"X\")\n",
    "plt.show()"
   ]
  }
 ],
 "metadata": {
  "kernelspec": {
   "display_name": "Python 3",
   "language": "python",
   "name": "python3"
  },
  "language_info": {
   "codemirror_mode": {
    "name": "ipython",
    "version": 3
   },
   "file_extension": ".py",
   "mimetype": "text/x-python",
   "name": "python",
   "nbconvert_exporter": "python",
   "pygments_lexer": "ipython3",
   "version": "3.6.0"
  }
 },
 "nbformat": 4,
 "nbformat_minor": 2
}
