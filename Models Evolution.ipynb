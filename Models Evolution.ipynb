{
 "cells": [
  {
   "cell_type": "code",
   "execution_count": 2,
   "metadata": {
    "collapsed": false
   },
   "outputs": [],
   "source": [
    "import math\n",
    "import matplotlib.pyplot as plt\n",
    "\n",
    "#Variaveis constantes\n",
    "Te = 1.0e7                    # em anos\n",
    "pi = math.pi\n",
    "H0 = 7.2e-11                  # em anos decrescentes\n",
    "G = 66450                     # Constante gravitacional em m^3 / kg / yr^2\n",
    "Em = 2.53e-27                 # Densidade da matéria em kg / m^3\n",
    "Er = 5.6e-31                  # Densidade da radiação em kg / m^3\n",
    "El = 6.78e-27                 # Densidade Lambda em kg / m^3\n"
   ]
  },
  {
   "cell_type": "code",
   "execution_count": 3,
   "metadata": {
    "collapsed": false
   },
   "outputs": [],
   "source": [
    "def getE(a, mat, rad, lamb):\n",
    "    tm = mat / (a**2)\n",
    "    tr = 2.0*rad/(a**3)   \n",
    "    tl = -2.0*lamb/(a**-1.0)\n",
    "    return tm + tr + tl"
   ]
  },
  {
   "cell_type": "code",
   "execution_count": 10,
   "metadata": {
    "collapsed": false
   },
   "outputs": [],
   "source": [
    "\"\"\"\n",
    "def expansionSim(Em, Er, El, cor, title):\n",
    "    To = 0.0\n",
    "    a0 = 1.0\n",
    "    He = H0\n",
    "    \n",
    "    while a0 > .1:\n",
    "        He -= Te*-4.0/3.0*pi*G*getE(a0, Em, Er, El)\n",
    "        a0 -= Te*He\n",
    "        To -= Te\n",
    "        plt.scatter( To/1.0e9, a0, marker=\".\", color=cor)\n",
    "        \n",
    "\"\"\"\n",
    "\n",
    "def expansionSim(Em, Er, El, cor, title):\n",
    "    To = 0.0\n",
    "    a0 = 1.0\n",
    "    He = H0\n",
    "    \n",
    "    while a0 > .1:\n",
    "        He -= Te*-4.0/3.0*pi*G*getE(a0, Em, Er, El)\n",
    "        a0 -= Te*He\n",
    "        To += Te\n",
    "        plt.scatter( To/1.0e9, a0, marker=\".\", color=cor)"
   ]
  },
  {
   "cell_type": "code",
   "execution_count": 11,
   "metadata": {
    "collapsed": false
   },
   "outputs": [
    {
     "data": {
      "image/png": "[encoded data removed]",
      "text/plain": [
       "<matplotlib.figure.Figure at 0x7fa3775eb710>"
      ]
     },
     "metadata": {},
     "output_type": "display_data"
    }
   ],
   "source": [
    "expansionSim(Em, Er, El, 'r',\"Benchmark\")\n",
    "expansionSim(Em, 0, 0, 'g', \"Matter\")\n",
    "expansionSim(0, Er, 0, 'b', \"Radiation\")\n",
    "expansionSim(0, 0, El, 'y',\"Lambda\")\n",
    "\n",
    "plt.ylabel(\"a\")\n",
    "plt.xlabel(\"H0(Te-T0)\")\n",
    "plt.show()\n"
   ]
  },
  {
   "cell_type": "code",
   "execution_count": null,
   "metadata": {
    "collapsed": true
   },
   "outputs": [],
   "source": []
  }
 ],
 "metadata": {
  "kernelspec": {
   "display_name": "Python 3",
   "language": "python",
   "name": "python3"
  },
  "language_info": {
   "codemirror_mode": {
    "name": "ipython",
    "version": 3
   },
   "file_extension": ".py",
   "mimetype": "text/x-python",
   "name": "python",
   "nbconvert_exporter": "python",
   "pygments_lexer": "ipython3",
   "version": "3.6.0"
  }
 },
 "nbformat": 4,
 "nbformat_minor": 2
}
