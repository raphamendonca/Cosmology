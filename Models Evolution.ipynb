{
 "cells": [
  {
   "cell_type": "code",
   "execution_count": 4,
   "metadata": {
    "collapsed": false
   },
   "outputs": [],
   "source": [
    "import math\n",
    "import matplotlib.pyplot as plt\n",
    "\n",
    "#Variaveis constantes\n",
    "Te = 1.0e7                    # em anos\n",
    "pi = math.pi\n",
    "H0 = 7.2e-11                  # em anos decrescentes\n",
    "G = 66450                     # Constante gravitacional em m^3 / kg / yr^2\n",
    "Em = 2.53e-27                 # Densidade da matéria em kg / m^3\n",
    "Er = 5.6e-31                  # Densidade da radiação em kg / m^3\n",
    "El = 6.78e-27                 # Densidade Lambda em kg / m^3\n"
   ]
  },
  {
   "cell_type": "code",
   "execution_count": 5,
   "metadata": {
    "collapsed": false
   },
   "outputs": [],
   "source": [
    "def getE(a, mat, rad, lamb):\n",
    "    tm = mat / (a**2)\n",
    "    tr = 2.0*rad/(a**3)   \n",
    "    tl = -2.0*lamb/(a**-1.0)\n",
    "    return tm + tr + tl"
   ]
  },
  {
   "cell_type": "code",
   "execution_count": 6,
   "metadata": {
    "collapsed": false
   },
   "outputs": [],
   "source": [
    "# Run simulation backward from present day until scale factor is < 0.01\n",
    "def expansionSim(Em, Er, El, cor, title):\n",
    "    To = 0.0\n",
    "    a0 = 1.0\n",
    "    He = H0\n",
    "    \n",
    "    while a0 > 0.01:\n",
    "        He -= Te*-4.0/3.0*pi*G*getE(a0, Em, Er, El)\n",
    "        a0 -= Te*He\n",
    "        To -= Te\n",
    "        plt.scatter(-a0, -To/1.0e9, marker=\".\", color=cor)\n",
    "    pass"
   ]
  },
  {
   "cell_type": "code",
   "execution_count": 7,
   "metadata": {
    "collapsed": false
   },
   "outputs": [
    {
     "data": {
      "image/png": "[encoded data removed]",
      "text/plain": [
       "<matplotlib.figure.Figure at 0x20597cb2c88>"
      ]
     },
     "metadata": {},
     "output_type": "display_data"
    }
   ],
   "source": [
    "expansionSim(Em, Er, El, 'r',\"Benchmark\")\n",
    "expansionSim(Em, 0, 0, 'g', \"Matter\")\n",
    "expansionSim(0, Er, 0, 'b', \"Radiation\")\n",
    "expansionSim(0, 0, El, 'y',\"Lambda\")\n",
    "\n",
    "plt.xlabel(\"a\")\n",
    "plt.ylabel(\"H0(Te-T0)\")\n",
    "plt.show()"
   ]
  }
 ],
 "metadata": {
  "kernelspec": {
   "display_name": "Python 3",
   "language": "python",
   "name": "python3"
  },
  "language_info": {
   "codemirror_mode": {
    "name": "ipython",
    "version": 3
   },
   "file_extension": ".py",
   "mimetype": "text/x-python",
   "name": "python",
   "nbconvert_exporter": "python",
   "pygments_lexer": "ipython3",
   "version": "3.6.0"
  }
 },
 "nbformat": 4,
 "nbformat_minor": 2
}
