{
 "cells": [
  {
   "cell_type": "code",
   "execution_count": 1,
   "metadata": {
    "collapsed": false
   },
   "outputs": [],
   "source": [
    "import math\n",
    "import matplotlib.pyplot as plt\n",
    "\n",
    "#Variaveis constantes\n",
    "Te = 1.0e7                    # em anos\n",
    "pi = math.pi\n",
    "H0 = 7.2e-11                  # em anos decrescentes\n",
    "G = 66450                     # Constante gravitacional em m^3 / kg / yr^2\n",
    "Em = 2.53e-27                 # Densidade da matéria em kg / m^3\n",
    "Er = 5.6e-31                  # Densidade da radiação em kg / m^3\n",
    "El = 6.78e-27                 # Densidade Lambda em kg / m^3\n"
   ]
  },
  {
   "cell_type": "code",
   "execution_count": 2,
   "metadata": {
    "collapsed": false
   },
   "outputs": [],
   "source": [
    "def getE(a, mat, rad, lamb):\n",
    "    tm = mat / (a**2)\n",
    "    tr = 2.0*rad/(a**3)   \n",
    "    tl = -2.0*lamb/(a**-1.0)\n",
    "    return tm + tr + tl"
   ]
  },
  {
   "cell_type": "code",
   "execution_count": 13,
   "metadata": {
    "collapsed": false
   },
   "outputs": [],
   "source": [
    "# Run simulation backward from present day until scale factor is < 0.01\n",
    "def expansionSim(Em, Er, El, cor, title):\n",
    "    To = 0.0\n",
    "    a0 = 1.0\n",
    "    He = H0\n",
    "    \n",
    "    while a0 > 0.01:\n",
    "        He -= Te*-4.0/3.0*pi*G*getE(a0, Em, Er, El)\n",
    "        a0 -= Te*He\n",
    "        To -= Te\n",
    "        plt.scatter(-a0, -To/1.0e9, marker=\".\", color=cor)\n",
    "        \n",
   ]
  },
  {
   "cell_type": "code",
   "execution_count": 14,
   "metadata": {
    "collapsed": false
   },
   "outputs": [
    {
     "data": {
      "image/png": "iVBORw0KGgoAAAANSUhEUgAAAYIAAAEKCAYAAAAfGVI8AAAABHNCSVQICAgIfAhkiAAAAAlwSFlz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\ngYhIiVMQiIiUuP8HavODSO2S3aMAAAAASUVORK5CYII=\n",
      "text/plain": [
       "<matplotlib.figure.Figure at 0x7f3892951dd8>"
      ]
     },
     "metadata": {},
     "output_type": "display_data"
    }
   ],
   "source": [
    "expansionSim(Em, Er, El, 'r',\"Benchmark\")\n",
    "expansionSim(Em, 0, 0, 'g', \"Matter\")\n",
    "expansionSim(0, Er, 0, 'b', \"Radiation\")\n",
    "expansionSim(0, 0, El, 'y',\"Lambda\")\n",
    "\n",
    "plt.xlabel(\"a\")\n",
    "plt.ylabel(\"H0(Te-T0)\")\n",
    "plt.show()"
   ]
  }
 ],
 "metadata": {
  "kernelspec": {
   "display_name": "Python 3",
   "language": "python",
   "name": "python3"
  },
  "language_info": {
   "codemirror_mode": {
    "name": "ipython",
    "version": 3
   },
   "file_extension": ".py",
   "mimetype": "text/x-python",
   "name": "python",
   "nbconvert_exporter": "python",
   "pygments_lexer": "ipython3",
   "version": "3.6.0"
  }
 },
 "nbformat": 4,
 "nbformat_minor": 2
}
