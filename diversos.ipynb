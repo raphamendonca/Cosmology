{
 "cells": [
  {
   "cell_type": "code",
   "execution_count": null,
   "metadata": {
    "collapsed": false
   },
   "outputs": [],
   "source": [
    "### Evolution of energy density\n",
    "\n",
    "import numpy as np\n",
    "import matplotlib.pyplot as plt\n",
    "%matplotlib inline\n",
    "import math\n",
    "\n",
    "'''\n",
    "Equação \n",
    "\n",
    "- LAMBDA DOMINATION\n",
    "- EMPTY UNIVERSE\n",
    "- MATTER DOMINATION\n",
    "- RADIATION DOMINATION\n",
    "\n",
    "Ew(a) = Ew,0 * a^^-3(1+w)\n",
    "\n",
    "EIXO Y = A\n",
    "EXIO X = H0(t−t0)\n",
    "\n",
    "eq Friedmann\n",
    "\n",
    "d**2a/dt**2 = −4/3*π*G*(ρ+3*p)*a(t).\n",
    "\n",
    "H(t)2 = 8*pi*G /3c**2 )*e(t) −k*c**2 / R0**2 * a(t)**2\n",
    "\n",
    "'''"
   ]
  },
  {
   "cell_type": "code",
   "execution_count": null,
   "metadata": {
    "collapsed": true
   },
   "outputs": [],
   "source": [
    "import math\n",
    "\n",
    "# te = t0 / (1 + z) = H0**(−1) / (1 + z)\n",
    "\n",
    "pi = math.pi\n",
    "G = 6.67408*10**(-11)      # Constante Gravitacional ( m^3 / kg / yr^2 )\n",
    "c = 299792458   # m / s\n",
    "\n",
    "#t0 = 0.0                   # t0 é hoje descressivamente 0.0\n",
    "\n",
    "c = 3e8 #km/s\n",
    "\n",
    "#H0\t=70 km/s/Mpc \n",
    "h0 = 70 \n",
    "\n",
    "# Ω0 = 1\n",
    "omega0 = 1\n",
    "\n",
    "#omega0 \n",
    "#omegaM -> Matéria\n",
    "#omegaR -> Radiação\n",
    "#omegaL -> lambda\n",
    "#omega0 = omegaM + omegaR + omegaL\n",
    "\n",
    "#em = 2.53e-27           # matterDensity in kg / m^3\n",
    "#er = 5.6e-31            #  radiationDensity...\n",
    "#et = em+er\n"
   ]
  },
  {
   "cell_type": "code",
   "execution_count": null,
   "metadata": {
    "collapsed": true
   },
   "outputs": [],
   "source": [
    "### Para Universos Vazios\n",
    "def scaleFactor(t,t0):\n",
    "    return t / t0"
   ]
  },
  {
   "cell_type": "code",
   "execution_count": null,
   "metadata": {
    "collapsed": false
   },
   "outputs": [],
   "source": [
    "def obterHo(a, p):\n",
    "    return (-4)/3*pi*G*(ρ+3*p)*a\n",
    "    #return math.sqrt(8*pi*G /3*c**2  * densidade(t0)  ) # −k*c**2 / R0**2 * a(t)**2"
   ]
  },
  {
   "cell_type": "code",
   "execution_count": null,
   "metadata": {
    "collapsed": true
   },
   "outputs": [],
   "source": [
    "def friedmann():\n",
    "    a = scaleFactor(t)\n",
    "    return (d**2)*a/(dt**2) = −4/3*pi*G*(ρ+3*p)*a.\n",
    "    "
   ]
  },
  {
   "cell_type": "code",
   "execution_count": 2,
   "metadata": {
    "collapsed": false
   },
   "outputs": [
    {
     "name": "stdout",
     "output_type": "stream",
     "text": [
      "1.0\n",
      "9.999000099990002e-05\n",
      "999999.0\n"
     ]
    }
   ],
   "source": [
    "# a = 1/(1+z)\n",
    "\n",
    "def getA(z):\n",
    "    return 1/ (1+z)\n",
    "\n",
    "def getZ(a):\n",
    "    return (1/a)-1\n",
    "\n",
    "print(getA(0))\n",
    "print(getA(10000))\n",
    "print(getZ(1e-06))"
   ]
  },
  {
   "cell_type": "code",
   "execution_count": 1,
   "metadata": {
    "collapsed": false
   },
   "outputs": [],
   "source": [
    "import numpy as np\n",
    "\n",
    "def getRo(omega0):\n",
    "    \n",
    "    return c/Ho*np.sqrt(omega0 - 1)\n",
    "\n",
    "#print( getRo(2) )"
   ]
  },
  {
   "cell_type": "code",
   "execution_count": 3,
   "metadata": {
    "collapsed": false
   },
   "outputs": [],
   "source": [
    "# H0 integra t0 a t * dt' = H0(te-t0)\n",
    "# h0 (te-to) = 2/3 * a (a ^(3/2) -1)\n",
    "\n",
    "def getH0(a):\n",
    "    return 2/3*(a**(3/2) - 1)\n",
    "\n",
    "#getH0(0.00001)\n"
   ]
  },
  {
   "cell_type": "code",
   "execution_count": 54,
   "metadata": {
    "collapsed": false
   },
   "outputs": [
    {
     "name": "stdout",
     "output_type": "stream",
     "text": [
      "[-100.   -99.9  -99.8 ...,   99.7   99.8   99.9]\n"
     ]
    },
    {
     "name": "stderr",
     "output_type": "stream",
     "text": [
      "C:\\Users\\329494569\\AppData\\Local\\Continuum\\Anaconda3\\lib\\site-packages\\ipykernel\\__main__.py:14: RuntimeWarning: invalid value encountered in double_scalars\n"
     ]
    },
    {
     "data": {
      "image/png": "[encoded data removed]",
      "text/plain": [
       "<matplotlib.figure.Figure at 0x209e58fe240>"
      ]
     },
     "metadata": {},
     "output_type": "display_data"
    }
   ],
   "source": [
    "import matplotlib.pyplot as plt\n",
    "%matplotlib inline\n",
    "\n",
    "def getA(z):\n",
    "    return 1/ (1+z)\n",
    "\n",
    "def getH0(a):\n",
    "    return 2/3*(a**(3/2) - 1)\n",
    "\n",
    "aList = np.arange(-100., 100., 0.1)\n",
    "print(aList)\n",
    "\n",
    "for a in aList:\n",
    "    plt.plot((-1)*getA(a), getH0(a), \"go\")\n",
    "    #plt.plot((-1)*getA(a), getH0(a), \"go\")\n",
    "\n",
    "\n",
    "    \n",
    "plt.ylabel(\"H0(te-t0)\")\n",
    "plt.xlabel(\"a\")\n",
    "\n",
    "\n",
    "plt.show()\n"
   ]
  },
  {
   "cell_type": "code",
   "execution_count": null,
   "metadata": {
    "collapsed": false,
    "scrolled": true
   },
   "outputs": [],
   "source": [
    "import numpy as np\n",
    "import matplotlib.pyplot as plt\n",
    "%matplotlib inline\n",
    "import math\n",
    "\n",
    "a = 1.0\n",
    "\n",
    "def densidadeEnergia(w): \n",
    "    # Ew = Ew,0 * a^-3(1+w)\n",
    "    ew = []\n",
    "    wi = w\n",
    "    while wi > 0:\n",
    "        e = wi * (a**(-3 - 3*w))\n",
    "        ew.append(e)\n",
    "        wi = wi - 1e-2\n",
    "\n",
    "    labelW = str(w)\n",
    "\n",
    "    lineW = plt.loglog(ew, label=labelW)\n",
    "    plt.legend(lineW, labelW)\n",
    "    pass\n",
    "\n",
    "for w in np.arange(1e-3, 2, 0.5):  \n",
    "    densidadeEnergia(w)\n",
    "\n",
    "#y = np.arange(1.,3.,0.1)   \n",
    "#plt.plot(wList, densidadeEnergia(wList))\n",
    "\n",
    "plt.xlabel(\"\")\n",
    "plt.ylabel(\"\")\n",
    "plt.title(\"Ew = Ew,0 * a^-3(1+w)\")\n",
    "\n",
    "plt.show()\n"
   ]
  },
  {
   "cell_type": "code",
   "execution_count": null,
   "metadata": {
    "collapsed": true
   },
   "outputs": [],
   "source": [
    "\n",
    "#data = [1.5]*7 + [2.5]*2 + [3.5]*8 + [4.5]*3 + [5.5]*1 + [6.5]*8\n",
    "density = gaussian_kde()\n",
    "#xs = np.linspace(0,8,200)\n",
    "#density.covariance_factor = lambda : .25\n",
    "#density._compute_covariance()\n",
    "plt.plot(xs,density(xs))\n",
    "plt.show()"
   ]
  },
  {
   "cell_type": "code",
   "execution_count": null,
   "metadata": {
    "collapsed": false
   },
   "outputs": [],
   "source": [
    "line_up, = plt.plot([1,2,3], label='Line 2')\n",
    "line_down, = plt.plot([3,2,1], label='Line 1')\n",
    "plt.legend([line_up, line_down], ['Line Up', 'Line Down'])"
   ]
  },
  {
   "cell_type": "code",
   "execution_count": null,
   "metadata": {
    "collapsed": false
   },
   "outputs": [],
   "source": [
    "x = np.arange(0,50,0.1)\n",
    "\n",
    "def fy(x):\n",
    "    return (2*x + 1)/3\n",
    "\n",
    "for i in x:\n",
    "    plt.plot(i,fy(i),'ko')\n",
    "\n",
    "plt.show()"
   ]
  },
  {
   "cell_type": "code",
   "execution_count": null,
   "metadata": {
    "collapsed": false
   },
   "outputs": [],
   "source": [
    "from scipy.stats import gaussian_kde\n",
    "data = [1.5]*7 + [2.5]*2 + [3.5]*8 + [4.5]*3 + [5.5]*1 + [6.5]*8\n",
    "density = gaussian_kde(data)\n",
    "xs = np.linspace(0,8,200)\n",
    "density.covariance_factor = lambda : .25\n",
    "density._compute_covariance()\n",
    "plt.plot(xs,density(xs))\n",
    "plt.show()"
   ]
  },
  {
   "cell_type": "code",
   "execution_count": null,
   "metadata": {
    "collapsed": false
   },
   "outputs": [],
   "source": [
    "import matplotlib.pyplot as plt\n",
    "from scipy.integrate import odeint\n",
    "\n",
    "plt.plot([1,2,3,4], [1,4,9,11], 'ro')\n",
    "#plt.axis([0, 6, 0, 20])\n",
    "plt.show()"
   ]
  },
  {
   "cell_type": "code",
   "execution_count": null,
   "metadata": {
    "collapsed": false
   },
   "outputs": [],
   "source": [
    "from astropy.cosmology import FlatLambdaCDM\n",
    "cosmo = FlatLambdaCDM(H0=70, Om0=0.3, Ob0=0.05)\n",
    "cosmo\n",
    "\n"
   ]
  },
  {
   "cell_type": "code",
   "execution_count": null,
   "metadata": {
    "collapsed": false
   },
   "outputs": [],
   "source": [
    "# a = 1 / 1 + z\n",
    "\n",
    "def redshift(a):\n",
    "    return 1/a - 1\n",
    "\n",
    "#Exercicio 3:\n",
    "print(redshift(0.75))\n",
    "\n",
    "#Exercicio 15:\n",
    "#print(redshift(0.75))\n"
   ]
  }
 ],
 "metadata": {
  "kernelspec": {
   "display_name": "Python 3",
   "language": "python",
   "name": "python3"
  },
  "language_info": {
   "codemirror_mode": {
    "name": "ipython",
    "version": 3
   },
   "file_extension": ".py",
   "mimetype": "text/x-python",
   "name": "python",
   "nbconvert_exporter": "python",
   "pygments_lexer": "ipython3",
   "version": "3.6.0"
  }
 },
 "nbformat": 4,
 "nbformat_minor": 2
}
